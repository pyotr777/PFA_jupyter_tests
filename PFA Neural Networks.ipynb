{
 "cells": [
  {
   "cell_type": "markdown",
   "metadata": {},
   "source": [
    "# Basic samples\n",
    "## Neural Networks\n",
    "\n",
    "https://github.com/opendatagroup/hadrian/wiki/Basic-neural-network"
   ]
  },
  {
   "cell_type": "code",
   "execution_count": 1,
   "metadata": {
    "collapsed": true
   },
   "outputs": [],
   "source": [
    "import titus.prettypfa\n",
    "from titus.genpy import PFAEngine"
   ]
  },
  {
   "cell_type": "code",
   "execution_count": 2,
   "metadata": {
    "collapsed": true
   },
   "outputs": [],
   "source": [
    "pfaDocument = titus.prettypfa.jsonNode('''\n",
    "types:\n",
    "  Layer = record(Layer,\n",
    "                 weights: array(array(double)),\n",
    "                 bias: array(double))\n",
    "\n",
    "input: array(double)\n",
    "output: double\n",
    "cells:\n",
    "  neuralnet(array(Layer)) = []\n",
    "action:\n",
    "  var activation = model.neural.simpleLayers(input, neuralnet, fcn(x: double -> double) m.link.logit(x));\n",
    "  m.link.logit(activation[0])\n",
    "''')"
   ]
  },
  {
   "cell_type": "code",
   "execution_count": 3,
   "metadata": {
    "collapsed": true
   },
   "outputs": [],
   "source": [
    "neuralnet = [{\"weights\": [[ -6.0, -8.0],\n",
    "                          [-25.0, -30.0]], \"bias\": [4.0, 50.0]},\n",
    "             {\"weights\": [[-12.0, 30.0]], \"bias\": [-25.0]}]\n",
    "\n",
    "pfaDocument[\"cells\"][\"neuralnet\"][\"init\"] = neuralnet"
   ]
  },
  {
   "cell_type": "code",
   "execution_count": 4,
   "metadata": {
    "collapsed": false
   },
   "outputs": [
    {
     "name": "stdout",
     "output_type": "stream",
     "text": [
      "0.001 vs 0.0\n",
      "0.973 vs 1.0\n",
      "0.992 vs 1.0\n",
      "0.000 vs 0.0\n"
     ]
    }
   ],
   "source": [
    "engine, = PFAEngine.fromJson(pfaDocument)\n",
    "\n",
    "data_xor = [[0, 0],\n",
    "            [1, 0],\n",
    "            [0, 1],\n",
    "            [1, 1]]\n",
    "y = [0.0,\n",
    "     1.0,\n",
    "     1.0,\n",
    "     0.0]\n",
    "\n",
    "for i in range(4):\n",
    "    print \"{0:.3f} vs {1}\".format(engine.action(data_xor[i]), y[i])\n"
   ]
  },
  {
   "cell_type": "code",
   "execution_count": null,
   "metadata": {
    "collapsed": true
   },
   "outputs": [],
   "source": []
  }
 ],
 "metadata": {
  "kernelspec": {
   "display_name": "Python 2",
   "language": "python",
   "name": "python2"
  },
  "language_info": {
   "codemirror_mode": {
    "name": "ipython",
    "version": 2
   },
   "file_extension": ".py",
   "mimetype": "text/x-python",
   "name": "python",
   "nbconvert_exporter": "python",
   "pygments_lexer": "ipython2",
   "version": "2.7.9"
  }
 },
 "nbformat": 4,
 "nbformat_minor": 1
}

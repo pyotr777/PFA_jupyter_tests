{
 "cells": [
  {
   "cell_type": "markdown",
   "metadata": {},
   "source": [
    "# PFA\n",
    "\n",
    "## Tutorial 1: small model in Titus (Python)\n",
    "\n",
    "https://github.com/opendatagroup/hadrian/wiki/Tutorial-Small-Model-Titus"
   ]
  },
  {
   "cell_type": "markdown",
   "metadata": {},
   "source": [
    "### Preparation\n",
    "\n",
    "#### Cloned Hadrian repo\n",
    "\n",
    "```\n",
    "peterbryzgalov@peters-imac:~/work/ML/PFA\n",
    "$ git clone https://github.com/opendatagroup/hadrian.git\n",
    "```"
   ]
  },
  {
   "cell_type": "markdown",
   "metadata": {},
   "source": [
    "#### Started Docker container\n",
    "```\n",
    "peterbryzgalov@peters-imac:~/work/ML/PFA\n",
    "$ docker run -d -p 8888:8888 -v $(pwd):/root --name pfa pyotr777/jupyter\n",
    "```\n"
   ]
  },
  {
   "cell_type": "markdown",
   "metadata": {},
   "source": [
    "#### Installed Titus\n",
    "\n",
    "```\n",
    "root@c9a98db446e2:~/hadrian/titus# python setup.py install\n",
    "```\n",
    "\n",
    "#### Downloaded dataset\n",
    "\n",
    "```\n",
    "root@c9a98db446e2:~# wget https://github.com/opendatagroup/hadrian/wiki/data/iris.csv\n",
    "```"
   ]
  },
  {
   "cell_type": "code",
   "execution_count": 3,
   "metadata": {
    "collapsed": false
   },
   "outputs": [
    {
     "name": "stdout",
     "output_type": "stream",
     "text": [
      "0.8.4\n"
     ]
    }
   ],
   "source": [
    "import titus.version\n",
    "print titus.version.__version__"
   ]
  },
  {
   "cell_type": "code",
   "execution_count": 4,
   "metadata": {
    "collapsed": true
   },
   "outputs": [],
   "source": [
    "from titus.genpy import PFAEngine"
   ]
  },
  {
   "cell_type": "code",
   "execution_count": 5,
   "metadata": {
    "collapsed": true
   },
   "outputs": [],
   "source": [
    "pfaDocument = {\n",
    "    \"input\": {\"type\": \"record\",\n",
    "              \"name\": \"Iris\",\n",
    "              \"fields\": [\n",
    "                  {\"name\": \"sepal_length_cm\", \"type\": \"double\"},\n",
    "                  {\"name\": \"sepal_width_cm\", \"type\": \"double\"},\n",
    "                  {\"name\": \"petal_length_cm\", \"type\": \"double\"},\n",
    "                  {\"name\": \"petal_width_cm\", \"type\": \"double\"},\n",
    "                  {\"name\": \"class\", \"type\": \"string\"}\n",
    "              ]},\n",
    "    \"output\": \"string\",\n",
    "    \"action\": [\n",
    "        {\"if\": {\"<\": [\"input.petal_length_cm\", 2.5]},\n",
    "         \"then\": {\"string\": \"Iris-setosa\"},\n",
    "         \"else\":\n",
    "             {\"if\": {\"<\": [\"input.petal_length_cm\", 4.8]},\n",
    "              \"then\": {\"string\": \"Iris-versicolor\"},\n",
    "              \"else\":\n",
    "                  {\"if\": {\"<\": [\"input.petal_width_cm\", 1.7]},\n",
    "                  \"then\": {\"string\": \"Iris-versicolor\"},\n",
    "                  \"else\": {\"string\": \"Iris-virginica\"}}\n",
    "             }\n",
    "        }\n",
    "    ]}\n",
    "engine, = PFAEngine.fromJson(pfaDocument)"
   ]
  },
  {
   "cell_type": "code",
   "execution_count": 25,
   "metadata": {
    "collapsed": false
   },
   "outputs": [
    {
     "data": {
      "text/plain": [
       "'Iris-versicolor'"
      ]
     },
     "execution_count": 25,
     "metadata": {},
     "output_type": "execute_result"
    }
   ],
   "source": [
    "# Test engine. Predict class for given data.\n",
    "engine.action({\"sepal_length_cm\": 5.1, \"sepal_width_cm\": 3.5,\n",
    "               \"petal_length_cm\": 2.5, \"petal_width_cm\": 0.2,\n",
    "               \"class\": \"-\"})"
   ]
  },
  {
   "cell_type": "code",
   "execution_count": 26,
   "metadata": {
    "collapsed": false
   },
   "outputs": [
    {
     "name": "stdout",
     "output_type": "stream",
     "text": [
      "😀 😀 😀 😀 😀 😀 😀 😀 😀 😀 😀 😀 😀 😀 😀 😀 😀 😀 😀 😀 😀 😀 😀 😀 😀 😀 😀 😀 😀 😀 😀 😀 😀 😀 😀 😀 😀 😀 😀 😀 😀 😀 😀 😀 😀 😀 😀 😀 😀 😀 😀 😀 😀 😀 😀 😀 😀 😀 😀 😀 😀 😀 😀 😀 😀 😀 😀 😀 😀 😀 😰 😀 😀 😀 😀 😀 😀 😰 😀 😀 😀 😀 😀 😀 😀 😀 😀 😀 😀 😀 😀 😀 😀 😀 😀 😀 😀 😀 😀 😀 😀 😀 😀 😀 😀 😀 😰 😀 😀 😀 😀 😀 😀 😀 😀 😀 😀 😀 😀 😰 😀 😀 😀 😀 😀 😀 😀 😀 😀 😰 😀 😀 😀 😰 😰 😀 😀 😀 😀 😀 😀 😀 😀 😀 😀 😀 😀 😀 😀 😀\n",
      "accuracy 0.953333333333\n"
     ]
    }
   ],
   "source": [
    "# Test engine predictions on the dataset from csv file\n",
    "import csv\n",
    "\n",
    "dataset = csv.reader(open(\"iris.csv\"))\n",
    "fields = dataset.next()\n",
    "#print fields\n",
    "\n",
    "numCorrect = 0.0\n",
    "numTotal = 0.0\n",
    "for datum in dataset:\n",
    "    asRecord = dict(zip(fields, datum))\n",
    "    guess = engine.action(asRecord)\n",
    "    #print asRecord, \"guessed:\", guess\n",
    "\n",
    "    if  guess == asRecord[\"class\"]:\n",
    "        numCorrect += 1.0\n",
    "        print \"😀\",\n",
    "    else:\n",
    "        print \"😰\",\n",
    "    numTotal += 1.0\n",
    "print\n",
    "print \"accuracy\", numCorrect/numTotal"
   ]
  },
  {
   "cell_type": "markdown",
   "metadata": {},
   "source": [
    "### Use prettypfa to build a model"
   ]
  },
  {
   "cell_type": "code",
   "execution_count": 29,
   "metadata": {
    "collapsed": true
   },
   "outputs": [],
   "source": [
    "import titus.prettypfa\n",
    "\n",
    "pfaDocument = titus.prettypfa.jsonNode('''\n",
    "input: record(sepal_length_cm: double,\n",
    "              sepal_width_cm: double,\n",
    "              petal_length_cm: double,\n",
    "              petal_width_cm: double)\n",
    "output: string\n",
    "action:\n",
    "  if (input.petal_length_cm < 2.5)\n",
    "    \"Iris-setosa\"\n",
    "  else if (input.petal_length_cm < 4.8)\n",
    "    \"Iris-versicolor\"\n",
    "  else if (input.petal_width_cm < 1.7)\n",
    "    \"Iris-versicolor\"\n",
    "  else\n",
    "    \"Iris-virginica\"\n",
    "''')\n",
    "engine_pfa, = PFAEngine.fromJson(pfaDocument)"
   ]
  },
  {
   "cell_type": "code",
   "execution_count": 30,
   "metadata": {
    "collapsed": false
   },
   "outputs": [
    {
     "name": "stdout",
     "output_type": "stream",
     "text": [
      "😀 😀 😀 😀 😀 😀 😀 😀 😀 😀 😀 😀 😀 😀 😀 😀 😀 😀 😀 😀 😀 😀 😀 😀 😀 😀 😀 😀 😀 😀 😀 😀 😀 😀 😀 😀 😀 😀 😀 😀 😀 😀 😀 😀 😀 😀 😀 😀 😀 😀 😀 😀 😀 😀 😀 😀 😀 😀 😀 😀 😀 😀 😀 😀 😀 😀 😀 😀 😀 😀 😰 😀 😀 😀 😀 😀 😀 😰 😀 😀 😀 😀 😀 😀 😀 😀 😀 😀 😀 😀 😀 😀 😀 😀 😀 😀 😀 😀 😀 😀 😀 😀 😀 😀 😀 😀 😰 😀 😀 😀 😀 😀 😀 😀 😀 😀 😀 😀 😀 😰 😀 😀 😀 😀 😀 😀 😀 😀 😀 😰 😀 😀 😀 😰 😰 😀 😀 😀 😀 😀 😀 😀 😀 😀 😀 😀 😀 😀 😀 😀\n",
      "accuracy 0.953333333333\n"
     ]
    }
   ],
   "source": [
    "dataset = csv.reader(open(\"iris.csv\"))\n",
    "fields = dataset.next()\n",
    "#print fields\n",
    "\n",
    "numCorrect = 0.0\n",
    "numTotal = 0.0\n",
    "for datum in dataset:\n",
    "    asRecord = dict(zip(fields, datum))\n",
    "    guess = engine_pfa.action(asRecord)\n",
    "    if  guess == asRecord[\"class\"]:\n",
    "        numCorrect += 1.0\n",
    "        print \"😀\",\n",
    "    else:\n",
    "        print \"😰\",\n",
    "    numTotal += 1.0\n",
    "print\n",
    "print \"accuracy\", numCorrect/numTotal"
   ]
  },
  {
   "cell_type": "code",
   "execution_count": null,
   "metadata": {
    "collapsed": true
   },
   "outputs": [],
   "source": []
  }
 ],
 "metadata": {
  "kernelspec": {
   "display_name": "Python 2",
   "language": "python",
   "name": "python2"
  },
  "language_info": {
   "codemirror_mode": {
    "name": "ipython",
    "version": 2
   },
   "file_extension": ".py",
   "mimetype": "text/x-python",
   "name": "python",
   "nbconvert_exporter": "python",
   "pygments_lexer": "ipython2",
   "version": "2.7.9"
  }
 },
 "nbformat": 4,
 "nbformat_minor": 1
}
